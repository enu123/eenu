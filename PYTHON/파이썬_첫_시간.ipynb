{
  "nbformat": 4,
  "nbformat_minor": 0,
  "metadata": {
    "colab": {
      "provenance": [],
      "authorship_tag": "ABX9TyMFK4HMsaUtIoLVp5BegMvH",
      "include_colab_link": true
    },
    "kernelspec": {
      "name": "python3",
      "display_name": "Python 3"
    },
    "language_info": {
      "name": "python"
    }
  },
  "cells": [
    {
      "cell_type": "markdown",
      "metadata": {
        "id": "view-in-github",
        "colab_type": "text"
      },
      "source": [
        "<a href=\"https://colab.research.google.com/github/enu123/eenu/blob/main/PYTHON/%ED%8C%8C%EC%9D%B4%EC%8D%AC_%EC%B2%AB_%EC%8B%9C%EA%B0%84.ipynb\" target=\"_parent\"><img src=\"https://colab.research.google.com/assets/colab-badge.svg\" alt=\"Open In Colab\"/></a>"
      ]
    },
    {
      "cell_type": "code",
      "execution_count": null,
      "metadata": {
        "colab": {
          "base_uri": "https://localhost:8080/"
        },
        "id": "ctlfv_oZLBiK",
        "outputId": "f328be12-f6a9-4f75-b5c3-cd19ba1feb19"
      },
      "outputs": [
        {
          "output_type": "stream",
          "name": "stdout",
          "text": [
            "579\n",
            "15129\n"
          ]
        }
      ],
      "source": [
        "a = 123\n",
        "b = 456\n",
        "print(a+b)\n",
        "print(a**2)"
      ]
    },
    {
      "cell_type": "markdown",
      "source": [
        "#제목1\n"
      ],
      "metadata": {
        "id": "kq5B7lD4OFrZ"
      }
    },
    {
      "cell_type": "code",
      "source": [],
      "metadata": {
        "id": "nBL5SVRGOfN3"
      },
      "execution_count": null,
      "outputs": []
    },
    {
      "cell_type": "code",
      "source": [],
      "metadata": {
        "id": "3ppMNf9XOfBg"
      },
      "execution_count": null,
      "outputs": []
    },
    {
      "cell_type": "markdown",
      "source": [
        "##제목2\n",
        "**굵은 텍스트**"
      ],
      "metadata": {
        "id": "Wi3V6z6pOQmh"
      }
    },
    {
      "cell_type": "code",
      "source": [],
      "metadata": {
        "id": "rc1JivuJOOeC"
      },
      "execution_count": null,
      "outputs": []
    },
    {
      "cell_type": "code",
      "source": [],
      "metadata": {
        "id": "66KDTiv9OODA"
      },
      "execution_count": null,
      "outputs": []
    }
  ]
}